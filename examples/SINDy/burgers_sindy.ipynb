{
 "cells": [
  {
   "cell_type": "code",
   "execution_count": 1,
   "metadata": {},
   "outputs": [
    {
     "ename": "SyntaxError",
     "evalue": "invalid syntax (_sindy.py, line 34)",
     "output_type": "error",
     "traceback": [
      "Traceback \u001b[0;36m(most recent call last)\u001b[0m:\n",
      "  File \u001b[1;32m\"/Users/properallan/miniforge3/envs/simulai/lib/python3.10/site-packages/IPython/core/interactiveshell.py\"\u001b[0m, line \u001b[1;32m3457\u001b[0m, in \u001b[1;35mrun_code\u001b[0m\n    exec(code_obj, self.user_global_ns, self.user_ns)\n",
      "  File \u001b[1;32m\"/var/folders/1s/zkd5ww510lxc__dscw97fsz00000gn/T/ipykernel_56191/598166743.py\"\u001b[0m, line \u001b[1;32m7\u001b[0m, in \u001b[1;35m<module>\u001b[0m\n    from simulai.rom import POD\n",
      "  File \u001b[1;32m\"/Users/properallan/miniforge3/envs/simulai/lib/python3.10/site-packages/simulai/rom/__init__.py\"\u001b[0m, line \u001b[1;32m19\u001b[0m, in \u001b[1;35m<module>\u001b[0m\n    from ._rom import DMD, GPOD, HOSVD, IPOD, POD, QQM, ROM, ByPassROM, IByPass\n",
      "  File \u001b[1;32m\"/Users/properallan/miniforge3/envs/simulai/lib/python3.10/site-packages/simulai/rom/_rom.py\"\u001b[0m, line \u001b[1;32m26\u001b[0m, in \u001b[1;35m<module>\u001b[0m\n    from simulai.optimization import SpaRSA\n",
      "  File \u001b[1;32m\"/Users/properallan/miniforge3/envs/simulai/lib/python3.10/site-packages/simulai/optimization/__init__.py\"\u001b[0m, line \u001b[1;32m23\u001b[0m, in \u001b[1;35m<module>\u001b[0m\n    from ._losses import *\n",
      "  File \u001b[1;32m\"/Users/properallan/miniforge3/envs/simulai/lib/python3.10/site-packages/simulai/optimization/_losses.py\"\u001b[0m, line \u001b[1;32m23\u001b[0m, in \u001b[1;35m<module>\u001b[0m\n    from simulai.models import AutoencoderKoopman, AutoencoderVariational, DeepONet\n",
      "  File \u001b[1;32m\"/Users/properallan/miniforge3/envs/simulai/lib/python3.10/site-packages/simulai/models/__init__.py\"\u001b[0m, line \u001b[1;32m18\u001b[0m, in \u001b[1;35m<module>\u001b[0m\n    from ._pytorch_models import (\n",
      "  File \u001b[1;32m\"/Users/properallan/miniforge3/envs/simulai/lib/python3.10/site-packages/simulai/models/_pytorch_models/__init__.py\"\u001b[0m, line \u001b[1;32m1\u001b[0m, in \u001b[1;35m<module>\u001b[0m\n    from ._autoencoder import (\n",
      "  File \u001b[1;32m\"/Users/properallan/miniforge3/envs/simulai/lib/python3.10/site-packages/simulai/models/_pytorch_models/_autoencoder.py\"\u001b[0m, line \u001b[1;32m20\u001b[0m, in \u001b[1;35m<module>\u001b[0m\n    from simulai.regression import ConvolutionalNetwork, DenseNetwork, Linear\n",
      "  File \u001b[1;32m\"/Users/properallan/miniforge3/envs/simulai/lib/python3.10/site-packages/simulai/regression/__init__.py\"\u001b[0m, line \u001b[1;32m25\u001b[0m, in \u001b[1;35m<module>\u001b[0m\n    from ._weak_sindy import WeakSINDy\n",
      "\u001b[0;36m  File \u001b[0;32m\"/Users/properallan/miniforge3/envs/simulai/lib/python3.10/site-packages/simulai/regression/_weak_sindy.py\"\u001b[0;36m, line \u001b[0;32m23\u001b[0;36m, in \u001b[0;35m<module>\u001b[0;36m\u001b[0m\n\u001b[0;31m    from ._sindy import SINDy\u001b[0m\n",
      "\u001b[0;36m  File \u001b[0;32m\"/Users/properallan/miniforge3/envs/simulai/lib/python3.10/site-packages/simulai/regression/_sindy.py\"\u001b[0;36m, line \u001b[0;32m34\u001b[0m\n\u001b[0;31m    <<<<<<< HEAD\u001b[0m\n\u001b[0m    ^\u001b[0m\n\u001b[0;31mSyntaxError\u001b[0m\u001b[0;31m:\u001b[0m invalid syntax\n"
     ]
    }
   ],
   "source": [
    "import h5py\n",
    "import matplotlib.pyplot as plt\n",
    "import numpy as np\n",
    "\n",
    "from simulai.math.differentiation import CollocationDerivative\n",
    "\n",
    "from simulai.rom import POD\n",
    "from simulai.io import Reshaper\n",
    "from simulai.simulation import Pipeline\n",
    "\n",
    "from pysindy import PolynomialLibrary, FourierLibrary, ConcatLibrary, WeakPDELibrary, STLSQ, SINDyOptimizer, SR3\n",
    "\n",
    "%matplotlib inline"
   ]
  },
  {
   "cell_type": "code",
   "execution_count": 2,
   "metadata": {},
   "outputs": [],
   "source": [
    "hf = h5py.File('/Users/properallan/Documents/github/weaksindy/weaksindy/examples/PDE_bench/data/burgers_data', 'r')\n",
    "data = hf['phi'][:]\n",
    "x = hf['x'][:]\n",
    "time = np.linspace(0,2,201)[:]"
   ]
  },
  {
   "cell_type": "code",
   "execution_count": null,
   "metadata": {},
   "outputs": [],
   "source": [
    "from sklearn.metrics import mean_squared_error\n",
    "\n",
    "def add_noise(data, noise_level=0.0):\n",
    "    rmse = mean_squared_error(data, np.zeros((data).shape), squared=False)\n",
    "    return data + np.random.normal(0, rmse * noise_level , data.shape) \n",
    "\n",
    "data = add_noise(data, noise_level=0.045)"
   ]
  },
  {
   "cell_type": "code",
   "execution_count": null,
   "metadata": {},
   "outputs": [],
   "source": [
    "plt.figure(figsize=(3,3))\n",
    "plt.pcolormesh(x, time, data)\n",
    "plt.title('Burgers')\n",
    "plt.ylabel('t')\n",
    "plt.xlabel('x')\n",
    "plt.show()"
   ]
  },
  {
   "attachments": {},
   "cell_type": "markdown",
   "metadata": {},
   "source": [
    "# POD"
   ]
  },
  {
   "cell_type": "code",
   "execution_count": null,
   "metadata": {},
   "outputs": [],
   "source": [
    "class orderReduction:\n",
    "    def __init__(self, rom_config: dict = {} ) -> None:\n",
    "        self.rom_config = rom_config\n",
    "        self.input_data = self.rom_config['input_data']\n",
    "        self.stages = self.rom_config['stages']\n",
    "\n",
    "        self.pipeline = Pipeline(self.stages)\n",
    "        self.pipeline.exec(self.input_data)\n",
    "\n",
    "    def project_data(self, data=None):\n",
    "        if data is None:\n",
    "            data = self.input_data\n",
    "        elif len(data.shape) == 1:\n",
    "            data = data[None,:]\n",
    "        return self.pipeline.project_data(data=data)\n",
    "      \n",
    "\n",
    "    def reconstruct_data(self, data=None):\n",
    "        if data is None:\n",
    "            data = self.projected_data\n",
    "        elif len(data.shape) == 1:\n",
    "            data = data[None,:]\n",
    "        return self.pipeline.reconstruct_data(data=data)"
   ]
  },
  {
   "cell_type": "code",
   "execution_count": null,
   "metadata": {},
   "outputs": [],
   "source": [
    "pod_config = {\n",
    "    'n_components' : 4\n",
    "}\n",
    "\n",
    "rom_config = {\n",
    "    'stages' : [ ('data_preparer', Reshaper()),\n",
    "                 ('rom', POD(config=pod_config)) ],\n",
    "    'input_data' :  data,\n",
    "}\n",
    "\n",
    "rom = orderReduction(rom_config)"
   ]
  },
  {
   "cell_type": "code",
   "execution_count": null,
   "metadata": {},
   "outputs": [],
   "source": [
    "from simulai.math.basis import UniformTestFunction, AdaptiveTestFunction, UniformMultiscaleTestFunction\n",
    "from simulai.regression import WeakSINDy, SINDy\n",
    "from simulai.regression import WeakSSINDy\n",
    "from scipy.special import legendre\n",
    "\n",
    "optimizer = STLSQ(threshold=0.1, alpha=1e-14, max_iter=20)\n",
    "#test_function = UniformTestFunction(p=16, q=16, L=50, overlap=0.4, ghost_cells=23)\n",
    "\n",
    "#test_function = UniformTestFunction(p=16, q=16, L=20, overlap=0.4, ghost_cells=0)\n",
    "#test_function = UniformTestFunction(p=16, q=16, L=8, overlap=0.01, ghost_cells=0)\n",
    "\n",
    "#test_function = AdaptiveTestFunction(q=16, s=8, K=60, p=2, tau_p=16, r_whm=4)\n",
    "\n",
    "test_function = UniformMultiscaleTestFunction(p=4, q=4, overlap=0.2, ghost_cells=0)\n",
    "\n",
    "#Adaptive\n",
    "#test_function = AdaptiveTestFunction(q=16, r_whm = 8, s = 10 , K = 15, p = 16, tau_p = 1)\n",
    "\n",
    "optimizer = 'pinv'\n",
    "wsindy = WeakSSINDy(\n",
    "    basis_function = PolynomialLibrary(degree=2), \n",
    "    test_function = legendre, \n",
    "    K = 10\n",
    ")"
   ]
  },
  {
   "cell_type": "code",
   "execution_count": null,
   "metadata": {},
   "outputs": [],
   "source": [
    "pdata = rom.project_data(data)"
   ]
  },
  {
   "cell_type": "code",
   "execution_count": null,
   "metadata": {},
   "outputs": [],
   "source": [
    "import sys\n",
    "import pathlib\n",
    "sys.path.append(str(pathlib.Path('/Users/properallan/Documents/github/simulai/examples/').resolve()))\n",
    "\n",
    "from utils.slice_data import sliceDataAlongAxis\n",
    "from utils.plot import plot_latent\n",
    "\n",
    "time_trash, time_train, time_validation, time_test = sliceDataAlongAxis(time, [0.0, 0.4, 0.0, 0.6], 0)\n",
    "pdata_trash, pdata_train, pdata_validation, pdata_test = sliceDataAlongAxis(pdata, [0.0, 0.4, 0.0, 0.6], 0)"
   ]
  },
  {
   "cell_type": "code",
   "execution_count": null,
   "metadata": {},
   "outputs": [],
   "source": [
    "time_trash.shape[0]+time_train.shape[0]+ time_validation.shape[0]+time_test.shape[0]"
   ]
  },
  {
   "cell_type": "code",
   "execution_count": null,
   "metadata": {},
   "outputs": [],
   "source": [
    "fig, ax = plot_latent(\n",
    "    [(time_train, pdata_train), \n",
    "     (time_validation, pdata_validation),\n",
    "     (time_test, pdata_test)] ,\n",
    "    [dict(label='latent - training'),\n",
    "     dict(label='latent - validation'),\n",
    "     dict(label='latent - test')]\n",
    ")"
   ]
  },
  {
   "cell_type": "code",
   "execution_count": null,
   "metadata": {},
   "outputs": [],
   "source": [
    "wsindy.fit(pdata_train, time_train)"
   ]
  },
  {
   "cell_type": "code",
   "execution_count": null,
   "metadata": {},
   "outputs": [],
   "source": [
    "#plt.figure(figsize=(10,2))\n",
    "#plt.plot(wsindy.mats[1][0].T)\n",
    "#plt.show()"
   ]
  },
  {
   "cell_type": "code",
   "execution_count": null,
   "metadata": {},
   "outputs": [],
   "source": [
    "wsindy_derivative = wsindy.eval(pdata, time)\n"
   ]
  },
  {
   "cell_type": "code",
   "execution_count": null,
   "metadata": {},
   "outputs": [],
   "source": [
    "from simulai.math.differentiation import CollocationDerivative\n",
    "\n",
    "diff_config={'step': time[1]-time[0]}\n",
    "diff = CollocationDerivative(config=diff_config)\n",
    "collocation_derivative = diff.solve(data=pdata) "
   ]
  },
  {
   "cell_type": "code",
   "execution_count": null,
   "metadata": {},
   "outputs": [],
   "source": [
    "fig, ax = plot_latent([\n",
    "             (time, collocation_derivative),\n",
    "             (time, wsindy_derivative),\n",
    "             ], \n",
    "            [\n",
    "             dict(label='FD derivatives'),\n",
    "             dict(label='WSINDy derivatives'),\n",
    "             ],\n",
    "             vlines=[ time_train[-1] ],\n",
    "            vlines_kwargs = [ dict(label='end train', color='k', ls='--') ],\n",
    "             fig_kwargs=dict(figsize=(10,3.2)))"
   ]
  },
  {
   "cell_type": "code",
   "execution_count": null,
   "metadata": {},
   "outputs": [],
   "source": [
    "wsindy_result, t_wsindy=wsindy.simulate(pdata[0], time, integrator='odeint')"
   ]
  },
  {
   "cell_type": "code",
   "execution_count": null,
   "metadata": {},
   "outputs": [],
   "source": [
    "tend=-1\n",
    "fig, ax = plot_latent(data = [ (time, pdata),\n",
    "                               (time, wsindy_result) ], \n",
    "                      data_kwargs=[ dict(label='latent'),\n",
    "                                    dict(label='WSINDy latent')], \n",
    "                      vlines=[ time_train[-1] ],\n",
    "                      vlines_kwargs = [ dict(label='end train', color='k', ls='--') ],\n",
    "                      fig_kwargs=dict(figsize=(9,4)) )"
   ]
  },
  {
   "cell_type": "code",
   "execution_count": null,
   "metadata": {},
   "outputs": [],
   "source": [
    "from simulai.metrics import L2Norm, PointwiseError\n",
    "perror = PointwiseError()\n",
    "\n",
    "wsindy_reconstructed_data = rom.reconstruct_data(data=wsindy_result)\n",
    "error = perror(data=wsindy_reconstructed_data, reference_data=data)\n"
   ]
  },
  {
   "cell_type": "code",
   "execution_count": null,
   "metadata": {},
   "outputs": [],
   "source": [
    "\n",
    "fig, ax = plt.subplots(1, 3, figsize=(12,3.5))\n",
    "datas = [data, wsindy_reconstructed_data, error]\n",
    "title = ['raw', 'ROM', 'error']\n",
    "\n",
    "vmin = np.min(data[0])\n",
    "vmax = np.max(data[0])\n",
    "for i,axi in enumerate(ax):\n",
    "    pc = axi.pcolormesh(hf['x'], time, datas[i])\n",
    "    axi.set_title(title[i])\n",
    "    axi.set_ylabel('t')\n",
    "    axi.set_xlabel('x')\n",
    "    cbar = plt.colorbar(pc)\n",
    "\n",
    "plt.tight_layout()"
   ]
  },
  {
   "cell_type": "code",
   "execution_count": null,
   "metadata": {},
   "outputs": [],
   "source": [
    "import matplotlib.pyplot as plt\n",
    "import numpy as np\n",
    "\n",
    "def plot_latent( data:list=[], \n",
    "                 data_kwargs:list=[], \n",
    "                 start_idx=None, \n",
    "                 end_idx=None,\n",
    "                 fig_kwargs=None, \n",
    "                 ax=None,\n",
    "                 vlines=None,\n",
    "                 vlines_kwargs=None,\n",
    "                 **kwargs):\n",
    "    if fig_kwargs is None:\n",
    "        fig_kwargs = {}\n",
    "    if vlines_kwargs is None:\n",
    "        vlines_kwargs = {}\n",
    "\n",
    "    if 'ncols' not in fig_kwargs.keys():\n",
    "        fig_kwargs['ncols'] = 2\n",
    "        \n",
    "    if data[0][1].shape[1] == 1:\n",
    "         fig_kwargs['ncols'] = 1\n",
    "\n",
    "    n_columns = fig_kwargs['ncols']\n",
    "    n_latent = data[0][1].shape[1]\n",
    "    if n_latent < n_columns:\n",
    "        n_columns = n_latent\n",
    "    n_rows = int(np.ceil(n_latent/n_columns))\n",
    "\n",
    "    if 'nrows' not in kwargs.keys():\n",
    "        fig_kwargs['nrows'] = n_rows\n",
    "    if 'figsize' not in fig_kwargs.keys():\n",
    "        if n_rows == 1:\n",
    "            scale = 1.5\n",
    "        else:\n",
    "            scale = 1\n",
    "        fig_kwargs['figsize'] = (7.5*n_columns, n_rows*2*scale)\n",
    "    if 'colsize' in kwargs.keys():\n",
    "        fig_kwargs['figsize'] = (kwargs['colsize'], fig_kwargs['figsize'][1])\n",
    "    if 'rowsize' in kwargs.keys():\n",
    "        fig_kwargs['figsize'] = (fig_kwargs['figsize'][0], kwargs['rowsize'])\n",
    "\n",
    "    \n",
    "    if ax is None:\n",
    "        fig, ax = plt.subplots( **fig_kwargs )\n",
    "\n",
    "    try:\n",
    "        shape_len = len(ax.shape)\n",
    "        if shape_len == 1:\n",
    "            ax = np.array([ax])\n",
    "    except:\n",
    "        ax = np.array([[ax]])\n",
    "        \n",
    "    vv = 0\n",
    "    for i in  np.arange(n_rows):\n",
    "        for j in np.arange(n_columns):\n",
    "            if vv < n_latent:\n",
    "                for d,l in zip(data, data_kwargs):\n",
    "                    time = d[0][start_idx:end_idx]\n",
    "                    variable = d[1][start_idx:end_idx,vv]\n",
    "                    ax[i][j].plot(time, variable, **l)\n",
    "                ax[i][j].set_title(rf\" Variable $x_{str({vv+1})}$\")\n",
    "                ax[i][j].grid(True)\n",
    "                if i == (n_rows-1):\n",
    "                    ax[i][j].set_xlabel('tstep')\n",
    "                if vlines is not None:\n",
    "                    for vline, vline_kwargs in zip(vlines, vlines_kwargs):\n",
    "                        ax[i][j].vlines(vline, *ax[i][j].get_ylim(), **vline_kwargs )\n",
    "            else:\n",
    "                ax[i][j].clear()\n",
    "                plt.axis('off')\n",
    "            vv += 1\n",
    "\n",
    "    #fig.legend(bbox_to_anchor=(0, -0.04))\n",
    "    ax[0][0].legend(loc='lower left', bbox_to_anchor=(-0.02, 1.15), fancybox=True, shadow=True, ncol=2)\n",
    "    #plt.legend(bbox_to_anchor=(0, -0.04), fancybox=True, shadow=True, borderaxespad=0)\n",
    "    plt.tight_layout()\n",
    "    #plt.show()\n",
    "    return fig, ax"
   ]
  },
  {
   "cell_type": "code",
   "execution_count": null,
   "metadata": {},
   "outputs": [],
   "source": [
    "random_idx=np.random.randint(1024, size=4)\n",
    "fig, ax = plot_latent(data = [ (time, data[:,random_idx]),\n",
    "                               (time, wsindy_reconstructed_data[:, random_idx]) ], \n",
    "                      data_kwargs=[ dict(label='latent'),\n",
    "                                    dict(label='WSINDy latent')], \n",
    "                      vlines=[ time_train[-1] ],\n",
    "                      vlines_kwargs = [ dict(label='end train', color='k', ls='--') ],\n",
    "                      \n",
    ")"
   ]
  },
  {
   "cell_type": "code",
   "execution_count": null,
   "metadata": {},
   "outputs": [],
   "source": []
  }
 ],
 "metadata": {
  "kernelspec": {
   "display_name": "wsindy",
   "language": "python",
   "name": "python3"
  },
  "language_info": {
   "codemirror_mode": {
    "name": "ipython",
    "version": 3
   },
   "file_extension": ".py",
   "mimetype": "text/x-python",
   "name": "python",
   "nbconvert_exporter": "python",
   "pygments_lexer": "ipython3",
   "version": "3.10.8"
  },
  "orig_nbformat": 4
 },
 "nbformat": 4,
 "nbformat_minor": 2
}
